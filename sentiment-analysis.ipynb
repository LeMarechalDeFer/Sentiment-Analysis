{
 "cells": [
  {
   "cell_type": "markdown",
   "metadata": {},
   "source": []
  },
  {
   "cell_type": "code",
   "execution_count": 34,
   "metadata": {},
   "outputs": [
    {
     "name": "stdout",
     "output_type": "stream",
     "text": [
      "Warning: Looks like you're using an outdated `kagglehub` version, please consider updating (latest version: 0.3.12)\n",
      "Path to dataset files: /home/talleyrand/.cache/kagglehub/datasets/bittlingmayer/amazonreviews/versions/7\n",
      "Dir Content :  ['train.ft.txt.bz2', 'test.ft.txt.bz2']\n"
     ]
    }
   ],
   "source": [
    "import os\n",
    "import kagglehub\n",
    "\n",
    "\n",
    "path = kagglehub.dataset_download(\"bittlingmayer/amazonreviews\")\n",
    "print(\"Path to dataset files:\", path)\n",
    "\n",
    "if os.path.exists(path):\n",
    "    files = os.listdir(path)\n",
    "    print(\"Dir Content : \", files)\n",
    "else:\n",
    "    raise FileNotFoundError(\"The path does not exist\")\n",
    "    "
   ]
  },
  {
   "cell_type": "code",
   "execution_count": 35,
   "metadata": {},
   "outputs": [],
   "source": [
    "import bz2\n",
    "import pandas as pd\n",
    "\n",
    "\n",
    "def load_dataset(file_path, max_lines = 10000):\n",
    "    texts = []\n",
    "    labels = []\n",
    "    \n",
    "    with bz2.open(file_path, mode=\"rt\", encoding=\"utf-8\") as f:\n",
    "        for i, line in enumerate(f):\n",
    "            if i >= max_lines:\n",
    "                break\n",
    "            line = line.strip()\n",
    "            if not line:\n",
    "                continue\n",
    "            parts = line.split(\" \", 1)\n",
    "            if len(parts) != 2:\n",
    "                continue\n",
    "            label, text = parts\n",
    "            labels.append(label.replace(\"__label__\", \"\"))\n",
    "            texts.append(text)\n",
    "    \n",
    "    return pd.DataFrame({\"label\": labels, \"text\": texts})\n",
    "\n",
    "df = load_dataset(os.path.join(path, \"train.ft.txt.bz2\"), max_lines=10000)"
   ]
  },
  {
   "cell_type": "code",
   "execution_count": 36,
   "metadata": {},
   "outputs": [
    {
     "name": "stdout",
     "output_type": "stream",
     "text": [
      "<class 'scipy.sparse._csr.csr_matrix'>\n",
      "BoW shape: (10000, 3000)\n",
      "Features: ['10' '10 minute' '10 year' '100' '100 year' '1000' '11' '12' '13' '14'\n",
      " '15' '15 minute' '16' '17' '18' '1984' '1st' '20' '20 year' '200' '2000'\n",
      " '20th' '20th century' '23' '24' '25' '2nd' '30' '30 minute' '30 year']\n"
     ]
    }
   ],
   "source": [
    "\n",
    "import re \n",
    "from sklearn.feature_extraction.text import CountVectorizer\n",
    "from nltk.stem import WordNetLemmatizer\n",
    "\n",
    "lemmatizer = WordNetLemmatizer()\n",
    "\n",
    "def preprocessor(text):\n",
    "    text = re.sub(r\"[^\\w\\s]\", \"\", text) # because we want to suppress punctuation\n",
    "    tokens = text.lower().split()\n",
    "    lemmatized = [lemmatizer.lemmatize(token) for token in tokens]\n",
    "    return \" \".join(lemmatized)\n",
    "\n",
    "vectorizer = CountVectorizer(\n",
    "    input='content',\n",
    "    strip_accents='unicode',\n",
    "    lowercase=True,\n",
    "    stop_words='english',\n",
    "    preprocessor=preprocessor,\n",
    "    ngram_range=(1, 2),\n",
    "    max_features=3000, # maximum dictionary size\n",
    "    max_df=0.95,\n",
    "    min_df=2\n",
    ")\n",
    "\n",
    "X = vectorizer.fit_transform(df[\"text\"])  \n",
    "print(type(X))\n",
    "# X is a sparse matrix, which uses less memory than a dense matrix.\n",
    "# A sparse vector is a single row/column from this matrix, also sparse in content, but not a different storage format.\n",
    "\n",
    "print(f\"BoW shape: {X.shape}\")  # (10000, 3000) \n",
    "print(\"Features:\", vectorizer.get_feature_names_out()[:30])\n"
   ]
  },
  {
   "cell_type": "code",
   "execution_count": 37,
   "metadata": {},
   "outputs": [],
   "source": [
    "from sklearn.model_selection import train_test_split\n",
    "\n",
    "# Split into X (vectorized text) and y (label)\n",
    "y = df[\"label\"].astype(int)  # Convert to integer\n",
    "\n",
    "# Split into train/test (80/20)\n",
    "X_train, X_test, y_train, y_test = train_test_split(X, y, test_size=0.2, random_state=42)\n"
   ]
  },
  {
   "cell_type": "code",
   "execution_count": 38,
   "metadata": {},
   "outputs": [
    {
     "name": "stdout",
     "output_type": "stream",
     "text": [
      "\n",
      "Logistic Regression Accuracy: 0.8300\n",
      "              precision    recall  f1-score   support\n",
      "\n",
      "           1       0.83      0.84      0.84      1037\n",
      "           2       0.83      0.82      0.82       963\n",
      "\n",
      "    accuracy                           0.83      2000\n",
      "   macro avg       0.83      0.83      0.83      2000\n",
      "weighted avg       0.83      0.83      0.83      2000\n",
      "\n",
      "\n",
      "Multinomial NB Accuracy: 0.8245\n",
      "              precision    recall  f1-score   support\n",
      "\n",
      "           1       0.83      0.83      0.83      1037\n",
      "           2       0.81      0.82      0.82       963\n",
      "\n",
      "    accuracy                           0.82      2000\n",
      "   macro avg       0.82      0.82      0.82      2000\n",
      "weighted avg       0.82      0.82      0.82      2000\n",
      "\n",
      "\n",
      "SGBDClassifier Accuracy: 0.8105\n",
      "              precision    recall  f1-score   support\n",
      "\n",
      "           1       0.81      0.82      0.82      1037\n",
      "           2       0.81      0.80      0.80       963\n",
      "\n",
      "    accuracy                           0.81      2000\n",
      "   macro avg       0.81      0.81      0.81      2000\n",
      "weighted avg       0.81      0.81      0.81      2000\n",
      "\n"
     ]
    }
   ],
   "source": [
    "from sklearn.naive_bayes import MultinomialNB\n",
    "from sklearn.linear_model import LogisticRegression\n",
    "from sklearn.linear_model import SGDClassifier\n",
    "\n",
    "from sklearn.metrics import classification_report, accuracy_score\n",
    "\n",
    "\n",
    "models = {\n",
    "    \"Logistic Regression\": LogisticRegression(max_iter=1000),\n",
    "    \"Multinomial NB\": MultinomialNB(),\n",
    "    \"SGBDClassifier\": SGDClassifier(max_iter=1000, random_state=42)\n",
    "}\n",
    "\n",
    "for name, model in models.items():\n",
    "    model.fit(X_train, y_train)\n",
    "    y_pred = model.predict(X_test)\n",
    "    acc = accuracy_score(y_test, y_pred)\n",
    "    print(f\"\\n{name} Accuracy: {acc:.4f}\")\n",
    "    print(classification_report(y_test, y_pred))\n"
   ]
  },
  {
   "cell_type": "code",
   "execution_count": 39,
   "metadata": {},
   "outputs": [],
   "source": [
    "def predict_sentiment(comment: str, model, model_name: str):\n",
    "    comment_clean = preprocessor(comment)\n",
    "    vector = vectorizer.transform([comment_clean])\n",
    "    prediction = model.predict(vector)[0]\n",
    "    sentiment = \"positive\" if prediction == 2 else \"negative\"\n",
    "\n",
    "    print(f\"\\nModel: {model_name}\")\n",
    "    print(f\"Comment: \\\"{comment}\\\"\")\n",
    "    print(f\"→ Predicted sentiment: {sentiment} (label = {prediction})\")\n"
   ]
  },
  {
   "cell_type": "code",
   "execution_count": 40,
   "metadata": {},
   "outputs": [
    {
     "name": "stdout",
     "output_type": "stream",
     "text": [
      "\n",
      "Model: Logistic Regression\n",
      "Comment: \"This product was terrible and broke in two days.\"\n",
      "→ Predicted sentiment: negative (label = 1)\n",
      "\n",
      "Model: Logistic Regression\n",
      "Comment: \"Absolutely love it, highly recommend this product.\"\n",
      "→ Predicted sentiment: positive (label = 2)\n",
      "\n",
      "Model: Multinomial NB\n",
      "Comment: \"This product was terrible and broke in two days.\"\n",
      "→ Predicted sentiment: negative (label = 1)\n",
      "\n",
      "Model: Multinomial NB\n",
      "Comment: \"Absolutely love it, highly recommend this product.\"\n",
      "→ Predicted sentiment: positive (label = 2)\n",
      "\n",
      "Model: SGBDClassifier\n",
      "Comment: \"This product was terrible and broke in two days.\"\n",
      "→ Predicted sentiment: negative (label = 1)\n",
      "\n",
      "Model: SGBDClassifier\n",
      "Comment: \"Absolutely love it, highly recommend this product.\"\n",
      "→ Predicted sentiment: positive (label = 2)\n"
     ]
    }
   ],
   "source": [
    "test_comments = [\n",
    "    \"This product was terrible and broke in two days.\",\n",
    "    \"Absolutely love it, highly recommend this product.\"\n",
    "]\n",
    "\n",
    "for name, model in models.items():\n",
    "    for comment in test_comments:\n",
    "        predict_sentiment(comment, model, name)\n"
   ]
  }
 ],
 "metadata": {
  "kernelspec": {
   "display_name": "naturalLanguageProcessing",
   "language": "python",
   "name": "python3"
  },
  "language_info": {
   "codemirror_mode": {
    "name": "ipython",
    "version": 3
   },
   "file_extension": ".py",
   "mimetype": "text/x-python",
   "name": "python",
   "nbconvert_exporter": "python",
   "pygments_lexer": "ipython3",
   "version": "3.13.2"
  }
 },
 "nbformat": 4,
 "nbformat_minor": 2
}
